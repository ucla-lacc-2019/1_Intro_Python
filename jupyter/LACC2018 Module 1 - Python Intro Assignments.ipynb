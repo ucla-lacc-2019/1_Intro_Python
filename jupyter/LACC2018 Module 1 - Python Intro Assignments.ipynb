{
 "cells": [
  {
   "cell_type": "markdown",
   "metadata": {},
   "source": [
    "# LACC 2018 Module 1\n",
    "# Python Introduction\n",
    "\n",
    "This is your jupyter notebook for the first module. Feel free to edit it to your liking (notes, comments etc.)\n",
    "\n",
    "## Assignment #1\n",
    "## English Word to Pig Latin Translator\n",
    "\n",
    "* Pig Latin is a language game, where you move the first letter of the word to the end and add \"ay.\" So \"Python\" becomes \"ythonpay.\"\n",
    "\n",
    "* Prompt the user with the phrase “Enter a word:”, and then output the word entered by the user translated into Pig Latin in lowercase\n",
    "\n",
    "* If the user’s entry is empty, non-alphabetical, or has multiple word the output should be “Error: incorrect input”."
   ]
  },
  {
   "cell_type": "code",
   "execution_count": null,
   "metadata": {},
   "outputs": [],
   "source": [
    "# get user input\n",
    "user_input = #code to get user input\n",
    "translateToPigLatin(user_input)\n",
    "\n",
    "def checkForError(input):\n",
    "    #code to check erraneous input\n",
    "\n",
    "def translateToPigLatin(input):\n",
    "    #code to convert a word into pig latin"
   ]
  },
  {
   "cell_type": "markdown",
   "metadata": {},
   "source": [
    "## Assignment #2\n",
    "## Compute Statistics\n",
    "\n",
    "* Mean, mode, and medianare three common statistics of a set of numbers.\n",
    "\n",
    "* Prompt the user with the phrase “Enter a comma separated list of numbers:”\n",
    "\n",
    "* Output on three separate lines the mean, mode, and median of the entered numbers as “Mean = ...”, “Mode = ...” and “Median = ...”. \n",
    "\n",
    "* The user may enter numbers as integers or real.\n",
    "\n",
    "* Hint : Consider using the function input()instead of raw_input()-look up on the web as to how it works."
   ]
  },
  {
   "cell_type": "code",
   "execution_count": null,
   "metadata": {
    "collapsed": true
   },
   "outputs": [],
   "source": [
    "# write your code below to compute statistics"
   ]
  },
  {
   "cell_type": "markdown",
   "metadata": {},
   "source": [
    "## Assignment #3\n",
    "## Frequency Analysis of Documents on the Web\n",
    "\n",
    "* The relative frequencies (i.e. fractions of the total) of different letters in a document are very useful for a variety of purposes, such as compressing the document, encrypting it etc.\n",
    "\n",
    "* Prompt the user with the phrase “Enter a URL:”\n",
    "\n",
    "* Analyze the text at the URL, and then output a sorted (highest to lowest) listing of different English (a-z, A-Z) and numeric (0-9) characters and their respective fraction of the total one per line in the format “character fraction”.\n",
    "\n",
    "* Count upper and lowercase versions of a character to be equivalent, and ignore any characters other that a-z, A-Z, 0-9.\n",
    "\n",
    "* Print “Error reading URL” if the URL is not reachable or if it returns data of type other than something that starts with “text/”.\n"
   ]
  },
  {
   "cell_type": "code",
   "execution_count": null,
   "metadata": {
    "collapsed": true
   },
   "outputs": [],
   "source": [
    "# write your code below to compute the frequency"
   ]
  }
 ],
 "metadata": {
  "kernelspec": {
   "display_name": "Python 2",
   "language": "python",
   "name": "python2"
  },
  "language_info": {
   "codemirror_mode": {
    "name": "ipython",
    "version": 2
   },
   "file_extension": ".py",
   "mimetype": "text/x-python",
   "name": "python",
   "nbconvert_exporter": "python",
   "pygments_lexer": "ipython2",
   "version": "2.7.15"
  }
 },
 "nbformat": 4,
 "nbformat_minor": 2
}
